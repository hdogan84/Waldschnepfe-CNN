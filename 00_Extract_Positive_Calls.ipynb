{
 "cells": [
  {
   "cell_type": "code",
   "execution_count": 1,
   "metadata": {},
   "outputs": [],
   "source": [
    "import librosa\n",
    "from skimage import feature\n",
    "import pandas as pd\n",
    "import numpy as np\n",
    "import matplotlib.pyplot as plt\n",
    "from scipy import signal\n",
    "from skimage.feature import match_template"
   ]
  },
  {
   "cell_type": "code",
   "execution_count": 6,
   "metadata": {},
   "outputs": [],
   "source": [
    "#(temp_sig, rate) = librosa.load('Scolopax_rusticola_DIG0161_66.wav')\n",
    "(sig, rate) = librosa.load('VP2_20170330.wav', sr=22050, mono=True)\n",
    "#(orig_sig, orig_rate) = librosa.load('Scolopax_rusticola_DIG0110_07.wav',sr=None)\n",
    "#temp_sig=librosa.resample(orig_sig,orig_rate,22050)"
   ]
  },
  {
   "cell_type": "code",
   "execution_count": 7,
   "metadata": {},
   "outputs": [],
   "source": [
    "rate=22050"
   ]
  },
  {
   "cell_type": "code",
   "execution_count": 9,
   "metadata": {},
   "outputs": [
    {
     "data": {
      "text/plain": [
       "6995.616009070295"
      ]
     },
     "execution_count": 9,
     "metadata": {},
     "output_type": "execute_result"
    }
   ],
   "source": [
    "sig.shape[0]/22050"
   ]
  },
  {
   "cell_type": "code",
   "execution_count": null,
   "metadata": {},
   "outputs": [],
   "source": [
    "# FFT and Filtering parameters\n",
    "band_freq_min=3000\n",
    "band_freq_max=10500\n",
    "windowlength=512 # also equals to NFFT\n",
    "N_overlap=400 # Overlap length in STFT "
   ]
  },
  {
   "cell_type": "markdown",
   "metadata": {},
   "source": [
    "Erster Fund im Abschnitt bei Sekunde 12 - Abschnittlänge 5 Sekunden"
   ]
  },
  {
   "cell_type": "code",
   "execution_count": 40,
   "metadata": {},
   "outputs": [],
   "source": [
    "base_folder='C:/Users/dgnhk_000/Downloads/ARSU 2017/20170330_Uhu/VP2_20170401/'"
   ]
  },
  {
   "cell_type": "code",
   "execution_count": 37,
   "metadata": {},
   "outputs": [],
   "source": [
    "librosa.output.write_wav(filename,segment,22050)"
   ]
  },
  {
   "cell_type": "code",
   "execution_count": 38,
   "metadata": {},
   "outputs": [],
   "source": [
    "Begin_times=np.array([2615,2617,2620,2734,2737,2739,3161,3164,3167,3170,3172,3338,3340,3345,3348,4215,4218,4220,4223])"
   ]
  },
  {
   "cell_type": "markdown",
   "metadata": {},
   "source": [
    "Verwend Bandpassfilter entsprechend dem Uhu-Ruf"
   ]
  },
  {
   "cell_type": "code",
   "execution_count": 41,
   "metadata": {},
   "outputs": [],
   "source": [
    "for t_begin in Begin_times:\n",
    "    index_begin=int(t_begin*rate)\n",
    "    # Take  segment length of 2 seconds\n",
    "    index_end=index_begin+2*rate;\n",
    "    segment=sig[index_begin:index_end]\n",
    "    filename=base_folder+'VP2_'+str(int(t_begin))+'.wav'\n",
    "    librosa.output.write_wav(filename,segment,22050)"
   ]
  },
  {
   "cell_type": "code",
   "execution_count": null,
   "metadata": {},
   "outputs": [],
   "source": []
  }
 ],
 "metadata": {
  "kernelspec": {
   "display_name": "Python 3",
   "language": "python",
   "name": "python3"
  },
  "language_info": {
   "codemirror_mode": {
    "name": "ipython",
    "version": 3
   },
   "file_extension": ".py",
   "mimetype": "text/x-python",
   "name": "python",
   "nbconvert_exporter": "python",
   "pygments_lexer": "ipython3",
   "version": "3.7.3"
  }
 },
 "nbformat": 4,
 "nbformat_minor": 2
}
