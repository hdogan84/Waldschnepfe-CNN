{
 "cells": [
  {
   "cell_type": "code",
   "execution_count": 1,
   "metadata": {},
   "outputs": [],
   "source": [
    "import librosa\n",
    "from skimage import feature\n",
    "import pandas as pd\n",
    "import numpy as np\n",
    "import matplotlib.pyplot as plt\n",
    "from scipy import signal\n",
    "from skimage.feature import match_template"
   ]
  },
  {
   "cell_type": "code",
   "execution_count": 2,
   "metadata": {},
   "outputs": [],
   "source": [
    "from scipy.signal import butter, sosfilt, lfilter\n",
    "\n",
    "def butter_bandpass(lowcut, highcut, fs, order=5):\n",
    "    nyq = 0.5 * fs\n",
    "    low = lowcut / nyq\n",
    "    high = highcut / nyq\n",
    "    b, a = butter(order, [low, high], btype='band')\n",
    "    return b, a\n",
    "\n",
    "\n",
    "def butter_bandpass_filter(data, lowcut, highcut, fs, order=5):\n",
    "    b, a = butter_bandpass(lowcut, highcut, fs, order=order)\n",
    "    y = lfilter(b, a, data)\n",
    "    return y"
   ]
  },
  {
   "cell_type": "code",
   "execution_count": 3,
   "metadata": {},
   "outputs": [],
   "source": [
    "(sig, rate) = librosa.load('VP4_mono.wav', sr=22050)"
   ]
  },
  {
   "cell_type": "code",
   "execution_count": 4,
   "metadata": {},
   "outputs": [
    {
     "data": {
      "text/plain": [
       "22050"
      ]
     },
     "execution_count": 4,
     "metadata": {},
     "output_type": "execute_result"
    }
   ],
   "source": [
    "rate"
   ]
  },
  {
   "cell_type": "code",
   "execution_count": 5,
   "metadata": {},
   "outputs": [
    {
     "data": {
      "text/plain": [
       "(144699686,)"
      ]
     },
     "execution_count": 5,
     "metadata": {},
     "output_type": "execute_result"
    }
   ],
   "source": [
    "sig.shape"
   ]
  },
  {
   "cell_type": "code",
   "execution_count": 8,
   "metadata": {},
   "outputs": [],
   "source": [
    "#filename='C:/Users/dgnhk_000/Downloads/ARSU 2017/20170330_Uhu/Waldschnepfe_recog/VP4_mono.wav'\n",
    "#librosa.output.write_wav(filename,sig,22050)"
   ]
  },
  {
   "cell_type": "markdown",
   "metadata": {},
   "source": [
    "FFT parameters"
   ]
  },
  {
   "cell_type": "code",
   "execution_count": 4,
   "metadata": {},
   "outputs": [],
   "source": [
    "# FFT and Filtering parameters\n",
    "band_freq_min=2000\n",
    "band_freq_max=10500\n",
    "windowlength=512 # also equals to NFFT\n",
    "N_overlap=400 # Overlap length in STFT "
   ]
  },
  {
   "cell_type": "markdown",
   "metadata": {},
   "source": [
    "Load the Keras CNN model"
   ]
  },
  {
   "cell_type": "code",
   "execution_count": 5,
   "metadata": {},
   "outputs": [],
   "source": [
    "from tensorflow.keras.models import load_model\n",
    "import h5py\n",
    "\n",
    "filename='C:/Users/dgnhk_000/Downloads/ARSU 2017/20170330_Uhu/Waldschnepfe_recog/my_model_epochs6.h5'\n",
    "model = load_model(filename)"
   ]
  },
  {
   "cell_type": "markdown",
   "metadata": {},
   "source": [
    "Nimm das Muster vom ersten Fund"
   ]
  },
  {
   "cell_type": "code",
   "execution_count": 6,
   "metadata": {},
   "outputs": [
    {
     "data": {
      "text/plain": [
       "6562.344036281179"
      ]
     },
     "execution_count": 6,
     "metadata": {},
     "output_type": "execute_result"
    }
   ],
   "source": [
    "t_max=len(sig)/rate\n",
    "t_max"
   ]
  },
  {
   "cell_type": "markdown",
   "metadata": {},
   "source": [
    "Template Matching auf Abschnitte mit 1000 Sekunden Zeit Intervalle"
   ]
  },
  {
   "cell_type": "code",
   "execution_count": 7,
   "metadata": {},
   "outputs": [],
   "source": [
    "segment_length=2\n",
    "t_begin=0; t_end=t_begin+segment_length"
   ]
  },
  {
   "cell_type": "code",
   "execution_count": 8,
   "metadata": {},
   "outputs": [],
   "source": [
    "result=np.zeros((0,2))\n",
    "time_axis=np.zeros((0,0))"
   ]
  },
  {
   "cell_type": "code",
   "execution_count": 9,
   "metadata": {},
   "outputs": [],
   "source": [
    "while t_end<t_max:\n",
    "    index_begin=t_begin*rate; index_end=t_end*rate;\n",
    "    segment=sig[index_begin:index_end]\n",
    "    filtered=butter_bandpass_filter(segment, band_freq_min, band_freq_max, fs=rate, order=5)\n",
    "    f, t, Syy = signal.stft(filtered, fs=rate,window='hann',noverlap=N_overlap,nfft=windowlength,nperseg=windowlength)\n",
    "    Syy=abs(Syy)\n",
    "    Syy=20*np.log10(Syy/0.00002)\n",
    "    S=Syy.reshape(1,257,395,1)\n",
    "    \n",
    "    segment_result=model.predict(S)\n",
    "    result=np.append(result,segment_result,axis=0)\n",
    "    \n",
    "    #time_values=np.linspace(t_begin,t_end-delta_T,num=segment_result.shape[1])\n",
    "    #time_axis=np.append(time_axis,time_values)\n",
    "    \n",
    "    t_begin+=segment_length\n",
    "    t_end+=segment_length"
   ]
  },
  {
   "cell_type": "code",
   "execution_count": 10,
   "metadata": {},
   "outputs": [
    {
     "data": {
      "text/plain": [
       "array([[1.84203500e-10, 1.00000000e+00],\n",
       "       [3.65592210e-29, 1.00000000e+00],\n",
       "       [4.57639512e-34, 1.00000000e+00],\n",
       "       ...,\n",
       "       [8.00600827e-01, 1.99399143e-01],\n",
       "       [7.23817348e-01, 2.76182622e-01],\n",
       "       [6.89712286e-01, 3.10287684e-01]])"
      ]
     },
     "execution_count": 10,
     "metadata": {},
     "output_type": "execute_result"
    }
   ],
   "source": [
    "result\n"
   ]
  },
  {
   "cell_type": "code",
   "execution_count": 17,
   "metadata": {},
   "outputs": [],
   "source": [
    "result2=np.zeros([3281,1])"
   ]
  },
  {
   "cell_type": "code",
   "execution_count": 18,
   "metadata": {},
   "outputs": [],
   "source": [
    "result2[result[:,1]>0.98]=1\n",
    "finds=np.zeros([0])"
   ]
  },
  {
   "cell_type": "code",
   "execution_count": 19,
   "metadata": {},
   "outputs": [
    {
     "data": {
      "text/plain": [
       "(175,)"
      ]
     },
     "execution_count": 19,
     "metadata": {},
     "output_type": "execute_result"
    }
   ],
   "source": [
    "for ii in range(3281):\n",
    "    if result2[ii]==1: finds=np.append(finds,ii*2)\n",
    "finds.shape"
   ]
  },
  {
   "cell_type": "code",
   "execution_count": 20,
   "metadata": {
    "scrolled": true
   },
   "outputs": [
    {
     "data": {
      "text/plain": [
       "array([   0.,    2.,    4.,    6.,    8.,   10.,   12.,   14.,   16.,\n",
       "         18.,   24.,   26.,   42.,   48.,   56.,   64.,   80.,   92.,\n",
       "        102.,  126.,  138.,  150.,  158.,  164.,  168.,  186.,  190.,\n",
       "        298.,  356.,  362.,  364.,  370.,  378.,  380.,  386.,  392.,\n",
       "        398.,  406.,  412.,  420.,  426.,  428.,  496.,  502.,  508.,\n",
       "        510.,  520.,  538.,  554.,  562.,  574.,  576.,  584.,  586.,\n",
       "        588.,  598.,  612.,  620.,  644.,  658.,  664.,  666.,  686.,\n",
       "        708.,  710.,  724.,  746.,  752.,  754.,  762.,  764.,  770.,\n",
       "        780.,  790.,  798.,  800.,  818.,  824.,  830.,  832.,  840.,\n",
       "        872.,  890.,  896.,  910.,  912.,  920.,  922.,  930.,  932.,\n",
       "       1002., 1036., 1048., 1062., 1064., 1072., 1084., 1096., 1124.,\n",
       "       1138., 1144., 1152., 1172., 1194., 1208., 1210., 1228., 1270.,\n",
       "       1294., 1302., 1310., 1312., 1344., 1346., 1362., 1364., 1370.,\n",
       "       1380., 1382., 1388., 1398., 1404., 1412., 1416., 1432., 1442.,\n",
       "       1448., 1456., 1474., 1480., 1740., 1742., 1756., 1788., 1790.,\n",
       "       1796., 1798., 1804., 1812., 1820., 1826., 1834., 1836., 1856.,\n",
       "       1858., 1860., 1862., 1866., 1872., 1876., 1878., 1880., 1884.,\n",
       "       1894., 1896., 1898., 1904., 1906., 1918., 1920., 1940., 1942.,\n",
       "       1948., 1952., 1954., 1956., 1964., 1996., 2004., 2006., 2012.,\n",
       "       2014., 2032., 2190., 4398.])"
      ]
     },
     "execution_count": 20,
     "metadata": {},
     "output_type": "execute_result"
    }
   ],
   "source": [
    "finds"
   ]
  },
  {
   "cell_type": "code",
   "execution_count": 41,
   "metadata": {},
   "outputs": [
    {
     "data": {
      "text/plain": [
       "array([1, 1, 1, ..., 0, 1, 0], dtype=int64)"
      ]
     },
     "execution_count": 41,
     "metadata": {},
     "output_type": "execute_result"
    }
   ],
   "source": [
    "# y_predict = np.argmax(result, axis=1)\n",
    "# y_predict"
   ]
  },
  {
   "cell_type": "markdown",
   "metadata": {},
   "source": [
    "Template Matching Results"
   ]
  },
  {
   "cell_type": "code",
   "execution_count": 16,
   "metadata": {},
   "outputs": [
    {
     "data": {
      "text/plain": [
       "Text(0, 0.5, 'Template Match Value')"
      ]
     },
     "execution_count": 16,
     "metadata": {},
     "output_type": "execute_result"
    },
    {
     "data": {
      "image/png": "[encoded data removed]",
      "text/plain": [
       "<Figure size 432x288 with 1 Axes>"
      ]
     },
     "metadata": {
      "needs_background": "light"
     },
     "output_type": "display_data"
    }
   ],
   "source": [
    "plt.plot(result2)\n",
    "plt.xlabel('Time (Seconds)')\n",
    "plt.ylabel('Template Match Value')"
   ]
  },
  {
   "cell_type": "markdown",
   "metadata": {},
   "source": [
    "Die Ergebnisse gezeigt in kurzer Zeitinterval"
   ]
  },
  {
   "cell_type": "code",
   "execution_count": 17,
   "metadata": {},
   "outputs": [
    {
     "data": {
      "text/plain": [
       "Text(0, 0.5, 'Template Match Value')"
      ]
     },
     "execution_count": 17,
     "metadata": {},
     "output_type": "execute_result"
    },
    {
     "data": {
      "image/png": "[encoded data removed]",
      "text/plain": [
       "<Figure size 432x288 with 1 Axes>"
      ]
     },
     "metadata": {
      "needs_background": "light"
     },
     "output_type": "display_data"
    }
   ],
   "source": [
    "plt.plot(result2[1200:1500])\n",
    "plt.xlabel('Time (Seconds)')\n",
    "plt.ylabel('Template Match Value')"
   ]
  },
  {
   "cell_type": "markdown",
   "metadata": {},
   "source": [
    "Find the positions of the maximas <br> which are above a THRESHOLD"
   ]
  },
  {
   "cell_type": "markdown",
   "metadata": {},
   "source": [
    "Positionen der Funde in Bezug auf die Zeit mit dem Template Matching"
   ]
  },
  {
   "cell_type": "markdown",
   "metadata": {},
   "source": [
    "Die Funde mit CNN-Algorithmus von Mario"
   ]
  },
  {
   "cell_type": "code",
   "execution_count": 306,
   "metadata": {},
   "outputs": [
    {
     "name": "stdout",
     "output_type": "stream",
     "text": [
      "[[2612.  2617.    11.1]\n",
      " [2616.  2621.    39.4]\n",
      " [2620.  2625.    10.8]\n",
      " [2732.  2737.    11.5]\n",
      " [2736.  2741.    24.5]\n",
      " [3164.  3169.    20.6]\n",
      " [3336.  3341.    18.6]\n",
      " [3340.  3345.    16.1]\n",
      " [3344.  3349.    17.3]\n",
      " [4216.  4221.    11.4]\n",
      " [4220.  4225.    12.9]\n",
      " [6032.  6037.    12.6]]\n"
     ]
    }
   ],
   "source": [
    "CNN_finds = np.loadtxt('VP2_20170330_c1_Scolopax_rusticola_TH10.txt', usecols=range(3))\n",
    "CNN_finds.shape\n",
    "np.set_printoptions(precision=4,suppress=True)\n",
    "print(CNN_finds[CNN_finds[:,2]>5.0])"
   ]
  },
  {
   "cell_type": "code",
   "execution_count": 15,
   "metadata": {},
   "outputs": [],
   "source": [
    "np.set_printoptions(precision=1,suppress=True)"
   ]
  },
  {
   "cell_type": "code",
   "execution_count": null,
   "metadata": {},
   "outputs": [],
   "source": []
  }
 ],
 "metadata": {
  "kernelspec": {
   "display_name": "Python 3",
   "language": "python",
   "name": "python3"
  },
  "language_info": {
   "codemirror_mode": {
    "name": "ipython",
    "version": 3
   },
   "file_extension": ".py",
   "mimetype": "text/x-python",
   "name": "python",
   "nbconvert_exporter": "python",
   "pygments_lexer": "ipython3",
   "version": "3.7.3"
  }
 },
 "nbformat": 4,
 "nbformat_minor": 2
}
